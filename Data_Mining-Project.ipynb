{
 "cells": [
  {
   "cell_type": "markdown",
   "metadata": {},
   "source": [
    "#### Muhammed Cihat ÜNAL 16050111002\n",
    "#### Berkan YILDIRIM 16050111025\n",
    "#### Muratcan YILDIZ 16050111036\n",
    "#### Gürkan ALTINTAŞ 16050111019"
   ]
  },
  {
   "cell_type": "code",
   "execution_count": 1,
   "metadata": {},
   "outputs": [],
   "source": [
    "import pandas as pd\n",
    "import numpy as np\n",
    "\n",
    "from sklearn.cluster import KMeans # Our clustering algorithm\n",
    "from sklearn.decomposition import PCA # Needed for dimension reduction\n",
    "\n",
    "from sklearn.neighbors import KNeighborsClassifier\n",
    "from sklearn.svm import SVC\n",
    "from sklearn.linear_model import LogisticRegression\n",
    "from sklearn.tree import DecisionTreeClassifier\n",
    "from sklearn.naive_bayes import GaussianNB\n",
    "from sklearn.ensemble import RandomForestClassifier\n",
    "from sklearn.ensemble import GradientBoostingClassifier\n",
    "\n",
    "import matplotlib.pyplot as plt # Plotting \n",
    "from sklearn.preprocessing import StandardScaler\n",
    "from sklearn.model_selection import train_test_split, KFold, cross_val_score\n",
    "from sklearn.metrics import accuracy_score\n",
    "\n",
    "\n",
    "import seaborn as sns; sns.set()  # for plot styling\n",
    "import warnings\n",
    "warnings.filterwarnings(\"ignore\")\n",
    "\n",
    "%matplotlib inline"
   ]
  },
  {
   "cell_type": "markdown",
   "metadata": {},
   "source": [
    "## Load and Investigate Data"
   ]
  },
  {
   "cell_type": "markdown",
   "metadata": {},
   "source": [
    " I will be using diabetes dataset for this demonstration"
   ]
  },
  {
   "cell_type": "code",
   "execution_count": 2,
   "metadata": {},
   "outputs": [],
   "source": [
    "df = pd.read_csv('diabetes.csv')"
   ]
  },
  {
   "cell_type": "code",
   "execution_count": 3,
   "metadata": {},
   "outputs": [
    {
     "data": {
      "text/plain": [
       "(768, 9)"
      ]
     },
     "execution_count": 3,
     "metadata": {},
     "output_type": "execute_result"
    }
   ],
   "source": [
    "df.shape"
   ]
  },
  {
   "cell_type": "code",
   "execution_count": 4,
   "metadata": {},
   "outputs": [
    {
     "data": {
      "text/html": [
       "<div>\n",
       "<style scoped>\n",
       "    .dataframe tbody tr th:only-of-type {\n",
       "        vertical-align: middle;\n",
       "    }\n",
       "\n",
       "    .dataframe tbody tr th {\n",
       "        vertical-align: top;\n",
       "    }\n",
       "\n",
       "    .dataframe thead th {\n",
       "        text-align: right;\n",
       "    }\n",
       "</style>\n",
       "<table border=\"1\" class=\"dataframe\">\n",
       "  <thead>\n",
       "    <tr style=\"text-align: right;\">\n",
       "      <th></th>\n",
       "      <th>Pregnancies</th>\n",
       "      <th>Glucose</th>\n",
       "      <th>BloodPressure</th>\n",
       "      <th>SkinThickness</th>\n",
       "      <th>Insulin</th>\n",
       "      <th>BMI</th>\n",
       "      <th>DiabetesPedigreeFunction</th>\n",
       "      <th>Age</th>\n",
       "      <th>Outcome</th>\n",
       "    </tr>\n",
       "  </thead>\n",
       "  <tbody>\n",
       "    <tr>\n",
       "      <th>0</th>\n",
       "      <td>6</td>\n",
       "      <td>148</td>\n",
       "      <td>72</td>\n",
       "      <td>35</td>\n",
       "      <td>0</td>\n",
       "      <td>33.6</td>\n",
       "      <td>0.627</td>\n",
       "      <td>50</td>\n",
       "      <td>1</td>\n",
       "    </tr>\n",
       "    <tr>\n",
       "      <th>1</th>\n",
       "      <td>1</td>\n",
       "      <td>85</td>\n",
       "      <td>66</td>\n",
       "      <td>29</td>\n",
       "      <td>0</td>\n",
       "      <td>26.6</td>\n",
       "      <td>0.351</td>\n",
       "      <td>31</td>\n",
       "      <td>0</td>\n",
       "    </tr>\n",
       "    <tr>\n",
       "      <th>2</th>\n",
       "      <td>8</td>\n",
       "      <td>183</td>\n",
       "      <td>64</td>\n",
       "      <td>0</td>\n",
       "      <td>0</td>\n",
       "      <td>23.3</td>\n",
       "      <td>0.672</td>\n",
       "      <td>32</td>\n",
       "      <td>1</td>\n",
       "    </tr>\n",
       "    <tr>\n",
       "      <th>3</th>\n",
       "      <td>1</td>\n",
       "      <td>89</td>\n",
       "      <td>66</td>\n",
       "      <td>23</td>\n",
       "      <td>94</td>\n",
       "      <td>28.1</td>\n",
       "      <td>0.167</td>\n",
       "      <td>21</td>\n",
       "      <td>0</td>\n",
       "    </tr>\n",
       "    <tr>\n",
       "      <th>4</th>\n",
       "      <td>0</td>\n",
       "      <td>137</td>\n",
       "      <td>40</td>\n",
       "      <td>35</td>\n",
       "      <td>168</td>\n",
       "      <td>43.1</td>\n",
       "      <td>2.288</td>\n",
       "      <td>33</td>\n",
       "      <td>1</td>\n",
       "    </tr>\n",
       "    <tr>\n",
       "      <th>5</th>\n",
       "      <td>5</td>\n",
       "      <td>116</td>\n",
       "      <td>74</td>\n",
       "      <td>0</td>\n",
       "      <td>0</td>\n",
       "      <td>25.6</td>\n",
       "      <td>0.201</td>\n",
       "      <td>30</td>\n",
       "      <td>0</td>\n",
       "    </tr>\n",
       "    <tr>\n",
       "      <th>6</th>\n",
       "      <td>3</td>\n",
       "      <td>78</td>\n",
       "      <td>50</td>\n",
       "      <td>32</td>\n",
       "      <td>88</td>\n",
       "      <td>31.0</td>\n",
       "      <td>0.248</td>\n",
       "      <td>26</td>\n",
       "      <td>1</td>\n",
       "    </tr>\n",
       "    <tr>\n",
       "      <th>7</th>\n",
       "      <td>10</td>\n",
       "      <td>115</td>\n",
       "      <td>0</td>\n",
       "      <td>0</td>\n",
       "      <td>0</td>\n",
       "      <td>35.3</td>\n",
       "      <td>0.134</td>\n",
       "      <td>29</td>\n",
       "      <td>0</td>\n",
       "    </tr>\n",
       "    <tr>\n",
       "      <th>8</th>\n",
       "      <td>2</td>\n",
       "      <td>197</td>\n",
       "      <td>70</td>\n",
       "      <td>45</td>\n",
       "      <td>543</td>\n",
       "      <td>30.5</td>\n",
       "      <td>0.158</td>\n",
       "      <td>53</td>\n",
       "      <td>1</td>\n",
       "    </tr>\n",
       "    <tr>\n",
       "      <th>9</th>\n",
       "      <td>8</td>\n",
       "      <td>125</td>\n",
       "      <td>96</td>\n",
       "      <td>0</td>\n",
       "      <td>0</td>\n",
       "      <td>0.0</td>\n",
       "      <td>0.232</td>\n",
       "      <td>54</td>\n",
       "      <td>1</td>\n",
       "    </tr>\n",
       "    <tr>\n",
       "      <th>10</th>\n",
       "      <td>4</td>\n",
       "      <td>110</td>\n",
       "      <td>92</td>\n",
       "      <td>0</td>\n",
       "      <td>0</td>\n",
       "      <td>37.6</td>\n",
       "      <td>0.191</td>\n",
       "      <td>30</td>\n",
       "      <td>0</td>\n",
       "    </tr>\n",
       "    <tr>\n",
       "      <th>11</th>\n",
       "      <td>10</td>\n",
       "      <td>168</td>\n",
       "      <td>74</td>\n",
       "      <td>0</td>\n",
       "      <td>0</td>\n",
       "      <td>38.0</td>\n",
       "      <td>0.537</td>\n",
       "      <td>34</td>\n",
       "      <td>1</td>\n",
       "    </tr>\n",
       "    <tr>\n",
       "      <th>12</th>\n",
       "      <td>10</td>\n",
       "      <td>139</td>\n",
       "      <td>80</td>\n",
       "      <td>0</td>\n",
       "      <td>0</td>\n",
       "      <td>27.1</td>\n",
       "      <td>1.441</td>\n",
       "      <td>57</td>\n",
       "      <td>0</td>\n",
       "    </tr>\n",
       "    <tr>\n",
       "      <th>13</th>\n",
       "      <td>1</td>\n",
       "      <td>189</td>\n",
       "      <td>60</td>\n",
       "      <td>23</td>\n",
       "      <td>846</td>\n",
       "      <td>30.1</td>\n",
       "      <td>0.398</td>\n",
       "      <td>59</td>\n",
       "      <td>1</td>\n",
       "    </tr>\n",
       "    <tr>\n",
       "      <th>14</th>\n",
       "      <td>5</td>\n",
       "      <td>166</td>\n",
       "      <td>72</td>\n",
       "      <td>19</td>\n",
       "      <td>175</td>\n",
       "      <td>25.8</td>\n",
       "      <td>0.587</td>\n",
       "      <td>51</td>\n",
       "      <td>1</td>\n",
       "    </tr>\n",
       "    <tr>\n",
       "      <th>15</th>\n",
       "      <td>7</td>\n",
       "      <td>100</td>\n",
       "      <td>0</td>\n",
       "      <td>0</td>\n",
       "      <td>0</td>\n",
       "      <td>30.0</td>\n",
       "      <td>0.484</td>\n",
       "      <td>32</td>\n",
       "      <td>1</td>\n",
       "    </tr>\n",
       "    <tr>\n",
       "      <th>16</th>\n",
       "      <td>0</td>\n",
       "      <td>118</td>\n",
       "      <td>84</td>\n",
       "      <td>47</td>\n",
       "      <td>230</td>\n",
       "      <td>45.8</td>\n",
       "      <td>0.551</td>\n",
       "      <td>31</td>\n",
       "      <td>1</td>\n",
       "    </tr>\n",
       "    <tr>\n",
       "      <th>17</th>\n",
       "      <td>7</td>\n",
       "      <td>107</td>\n",
       "      <td>74</td>\n",
       "      <td>0</td>\n",
       "      <td>0</td>\n",
       "      <td>29.6</td>\n",
       "      <td>0.254</td>\n",
       "      <td>31</td>\n",
       "      <td>1</td>\n",
       "    </tr>\n",
       "    <tr>\n",
       "      <th>18</th>\n",
       "      <td>1</td>\n",
       "      <td>103</td>\n",
       "      <td>30</td>\n",
       "      <td>38</td>\n",
       "      <td>83</td>\n",
       "      <td>43.3</td>\n",
       "      <td>0.183</td>\n",
       "      <td>33</td>\n",
       "      <td>0</td>\n",
       "    </tr>\n",
       "    <tr>\n",
       "      <th>19</th>\n",
       "      <td>1</td>\n",
       "      <td>115</td>\n",
       "      <td>70</td>\n",
       "      <td>30</td>\n",
       "      <td>96</td>\n",
       "      <td>34.6</td>\n",
       "      <td>0.529</td>\n",
       "      <td>32</td>\n",
       "      <td>1</td>\n",
       "    </tr>\n",
       "  </tbody>\n",
       "</table>\n",
       "</div>"
      ],
      "text/plain": [
       "    Pregnancies  Glucose  BloodPressure  SkinThickness  Insulin   BMI  \\\n",
       "0             6      148             72             35        0  33.6   \n",
       "1             1       85             66             29        0  26.6   \n",
       "2             8      183             64              0        0  23.3   \n",
       "3             1       89             66             23       94  28.1   \n",
       "4             0      137             40             35      168  43.1   \n",
       "5             5      116             74              0        0  25.6   \n",
       "6             3       78             50             32       88  31.0   \n",
       "7            10      115              0              0        0  35.3   \n",
       "8             2      197             70             45      543  30.5   \n",
       "9             8      125             96              0        0   0.0   \n",
       "10            4      110             92              0        0  37.6   \n",
       "11           10      168             74              0        0  38.0   \n",
       "12           10      139             80              0        0  27.1   \n",
       "13            1      189             60             23      846  30.1   \n",
       "14            5      166             72             19      175  25.8   \n",
       "15            7      100              0              0        0  30.0   \n",
       "16            0      118             84             47      230  45.8   \n",
       "17            7      107             74              0        0  29.6   \n",
       "18            1      103             30             38       83  43.3   \n",
       "19            1      115             70             30       96  34.6   \n",
       "\n",
       "    DiabetesPedigreeFunction  Age  Outcome  \n",
       "0                      0.627   50        1  \n",
       "1                      0.351   31        0  \n",
       "2                      0.672   32        1  \n",
       "3                      0.167   21        0  \n",
       "4                      2.288   33        1  \n",
       "5                      0.201   30        0  \n",
       "6                      0.248   26        1  \n",
       "7                      0.134   29        0  \n",
       "8                      0.158   53        1  \n",
       "9                      0.232   54        1  \n",
       "10                     0.191   30        0  \n",
       "11                     0.537   34        1  \n",
       "12                     1.441   57        0  \n",
       "13                     0.398   59        1  \n",
       "14                     0.587   51        1  \n",
       "15                     0.484   32        1  \n",
       "16                     0.551   31        1  \n",
       "17                     0.254   31        1  \n",
       "18                     0.183   33        0  \n",
       "19                     0.529   32        1  "
      ]
     },
     "execution_count": 4,
     "metadata": {},
     "output_type": "execute_result"
    }
   ],
   "source": [
    "df.head(20)"
   ]
  },
  {
   "cell_type": "code",
   "execution_count": 5,
   "metadata": {},
   "outputs": [
    {
     "data": {
      "text/plain": [
       "Index(['Pregnancies', 'Glucose', 'BloodPressure', 'SkinThickness', 'Insulin',\n",
       "       'BMI', 'DiabetesPedigreeFunction', 'Age', 'Outcome'],\n",
       "      dtype='object')"
      ]
     },
     "execution_count": 5,
     "metadata": {},
     "output_type": "execute_result"
    }
   ],
   "source": [
    "df.columns.unique()"
   ]
  },
  {
   "cell_type": "code",
   "execution_count": 6,
   "metadata": {},
   "outputs": [
    {
     "data": {
      "text/html": [
       "<div>\n",
       "<style scoped>\n",
       "    .dataframe tbody tr th:only-of-type {\n",
       "        vertical-align: middle;\n",
       "    }\n",
       "\n",
       "    .dataframe tbody tr th {\n",
       "        vertical-align: top;\n",
       "    }\n",
       "\n",
       "    .dataframe thead th {\n",
       "        text-align: right;\n",
       "    }\n",
       "</style>\n",
       "<table border=\"1\" class=\"dataframe\">\n",
       "  <thead>\n",
       "    <tr style=\"text-align: right;\">\n",
       "      <th></th>\n",
       "      <th>Pregnancies</th>\n",
       "      <th>Glucose</th>\n",
       "      <th>BloodPressure</th>\n",
       "      <th>SkinThickness</th>\n",
       "      <th>Insulin</th>\n",
       "      <th>BMI</th>\n",
       "      <th>DiabetesPedigreeFunction</th>\n",
       "      <th>Age</th>\n",
       "      <th>Outcome</th>\n",
       "    </tr>\n",
       "  </thead>\n",
       "  <tbody>\n",
       "    <tr>\n",
       "      <th>count</th>\n",
       "      <td>768.000000</td>\n",
       "      <td>768.000000</td>\n",
       "      <td>768.000000</td>\n",
       "      <td>768.000000</td>\n",
       "      <td>768.000000</td>\n",
       "      <td>768.000000</td>\n",
       "      <td>768.000000</td>\n",
       "      <td>768.000000</td>\n",
       "      <td>768.000000</td>\n",
       "    </tr>\n",
       "    <tr>\n",
       "      <th>mean</th>\n",
       "      <td>3.845052</td>\n",
       "      <td>120.894531</td>\n",
       "      <td>69.105469</td>\n",
       "      <td>20.536458</td>\n",
       "      <td>79.799479</td>\n",
       "      <td>31.992578</td>\n",
       "      <td>0.471876</td>\n",
       "      <td>33.240885</td>\n",
       "      <td>0.348958</td>\n",
       "    </tr>\n",
       "    <tr>\n",
       "      <th>std</th>\n",
       "      <td>3.369578</td>\n",
       "      <td>31.972618</td>\n",
       "      <td>19.355807</td>\n",
       "      <td>15.952218</td>\n",
       "      <td>115.244002</td>\n",
       "      <td>7.884160</td>\n",
       "      <td>0.331329</td>\n",
       "      <td>11.760232</td>\n",
       "      <td>0.476951</td>\n",
       "    </tr>\n",
       "    <tr>\n",
       "      <th>min</th>\n",
       "      <td>0.000000</td>\n",
       "      <td>0.000000</td>\n",
       "      <td>0.000000</td>\n",
       "      <td>0.000000</td>\n",
       "      <td>0.000000</td>\n",
       "      <td>0.000000</td>\n",
       "      <td>0.078000</td>\n",
       "      <td>21.000000</td>\n",
       "      <td>0.000000</td>\n",
       "    </tr>\n",
       "    <tr>\n",
       "      <th>25%</th>\n",
       "      <td>1.000000</td>\n",
       "      <td>99.000000</td>\n",
       "      <td>62.000000</td>\n",
       "      <td>0.000000</td>\n",
       "      <td>0.000000</td>\n",
       "      <td>27.300000</td>\n",
       "      <td>0.243750</td>\n",
       "      <td>24.000000</td>\n",
       "      <td>0.000000</td>\n",
       "    </tr>\n",
       "    <tr>\n",
       "      <th>50%</th>\n",
       "      <td>3.000000</td>\n",
       "      <td>117.000000</td>\n",
       "      <td>72.000000</td>\n",
       "      <td>23.000000</td>\n",
       "      <td>30.500000</td>\n",
       "      <td>32.000000</td>\n",
       "      <td>0.372500</td>\n",
       "      <td>29.000000</td>\n",
       "      <td>0.000000</td>\n",
       "    </tr>\n",
       "    <tr>\n",
       "      <th>75%</th>\n",
       "      <td>6.000000</td>\n",
       "      <td>140.250000</td>\n",
       "      <td>80.000000</td>\n",
       "      <td>32.000000</td>\n",
       "      <td>127.250000</td>\n",
       "      <td>36.600000</td>\n",
       "      <td>0.626250</td>\n",
       "      <td>41.000000</td>\n",
       "      <td>1.000000</td>\n",
       "    </tr>\n",
       "    <tr>\n",
       "      <th>max</th>\n",
       "      <td>17.000000</td>\n",
       "      <td>199.000000</td>\n",
       "      <td>122.000000</td>\n",
       "      <td>99.000000</td>\n",
       "      <td>846.000000</td>\n",
       "      <td>67.100000</td>\n",
       "      <td>2.420000</td>\n",
       "      <td>81.000000</td>\n",
       "      <td>1.000000</td>\n",
       "    </tr>\n",
       "  </tbody>\n",
       "</table>\n",
       "</div>"
      ],
      "text/plain": [
       "       Pregnancies     Glucose  BloodPressure  SkinThickness     Insulin  \\\n",
       "count   768.000000  768.000000     768.000000     768.000000  768.000000   \n",
       "mean      3.845052  120.894531      69.105469      20.536458   79.799479   \n",
       "std       3.369578   31.972618      19.355807      15.952218  115.244002   \n",
       "min       0.000000    0.000000       0.000000       0.000000    0.000000   \n",
       "25%       1.000000   99.000000      62.000000       0.000000    0.000000   \n",
       "50%       3.000000  117.000000      72.000000      23.000000   30.500000   \n",
       "75%       6.000000  140.250000      80.000000      32.000000  127.250000   \n",
       "max      17.000000  199.000000     122.000000      99.000000  846.000000   \n",
       "\n",
       "              BMI  DiabetesPedigreeFunction         Age     Outcome  \n",
       "count  768.000000                768.000000  768.000000  768.000000  \n",
       "mean    31.992578                  0.471876   33.240885    0.348958  \n",
       "std      7.884160                  0.331329   11.760232    0.476951  \n",
       "min      0.000000                  0.078000   21.000000    0.000000  \n",
       "25%     27.300000                  0.243750   24.000000    0.000000  \n",
       "50%     32.000000                  0.372500   29.000000    0.000000  \n",
       "75%     36.600000                  0.626250   41.000000    1.000000  \n",
       "max     67.100000                  2.420000   81.000000    1.000000  "
      ]
     },
     "execution_count": 6,
     "metadata": {},
     "output_type": "execute_result"
    }
   ],
   "source": [
    "df.describe()"
   ]
  },
  {
   "cell_type": "code",
   "execution_count": 7,
   "metadata": {},
   "outputs": [
    {
     "data": {
      "text/plain": [
       "Pregnancies                 0\n",
       "Glucose                     0\n",
       "BloodPressure               0\n",
       "SkinThickness               0\n",
       "Insulin                     0\n",
       "BMI                         0\n",
       "DiabetesPedigreeFunction    0\n",
       "Age                         0\n",
       "Outcome                     0\n",
       "dtype: int64"
      ]
     },
     "execution_count": 7,
     "metadata": {},
     "output_type": "execute_result"
    }
   ],
   "source": [
    "df.isnull().sum()"
   ]
  },
  {
   "cell_type": "markdown",
   "metadata": {},
   "source": [
    "* In our dataset, we have no null and min-zero values, So we don't need to do Data cleaning"
   ]
  },
  {
   "cell_type": "markdown",
   "metadata": {},
   "source": [
    "## Outlier Removal by using Z-Score"
   ]
  },
  {
   "cell_type": "markdown",
   "metadata": {},
   "source": [
    "Z-score is finding the distribution of data where mean is 0 and standard deviation is 1 i.e. normal distribution.\n",
    "\n",
    "While calculating the Z-score we re-scale and center the data and look for data points which are too far from zero. These data points which are way too far from zero will be treated as the outliers"
   ]
  },
  {
   "cell_type": "markdown",
   "metadata": {},
   "source": [
    "#### Outlier Detection"
   ]
  },
  {
   "cell_type": "code",
   "execution_count": 8,
   "metadata": {},
   "outputs": [
    {
     "name": "stdout",
     "output_type": "stream",
     "text": [
      "[[0.63994726 0.84832379 0.14964075 ... 0.46849198 1.4259954  1.36589591]\n",
      " [0.84488505 1.12339636 0.16054575 ... 0.36506078 0.19067191 0.73212021]\n",
      " [1.23388019 1.94372388 0.26394125 ... 0.60439732 0.10558415 1.36589591]\n",
      " ...\n",
      " [0.3429808  0.00330087 0.14964075 ... 0.68519336 0.27575966 0.73212021]\n",
      " [0.84488505 0.1597866  0.47073225 ... 0.37110101 1.17073215 1.36589591]\n",
      " [0.84488505 0.8730192  0.04624525 ... 0.47378505 0.87137393 0.73212021]]\n"
     ]
    }
   ],
   "source": [
    "from scipy import stats\n",
    "\n",
    "z = np.abs(stats.zscore(df))\n",
    "print(z)"
   ]
  },
  {
   "cell_type": "markdown",
   "metadata": {},
   "source": [
    "Looking the code and the output above, it is difficult to say which data point is an outlier. Let’s try and define a threshold to identify an outlier.\n",
    "threshold = 3"
   ]
  },
  {
   "cell_type": "code",
   "execution_count": 9,
   "metadata": {},
   "outputs": [
    {
     "name": "stdout",
     "output_type": "stream",
     "text": [
      "(array([  4,   7,   8,   9,  13,  15,  45,  49,  49,  58,  60,  60,  75,\n",
      "        78,  81,  81,  88, 111, 123, 145, 153, 159, 172, 177, 182, 186,\n",
      "       193, 220, 222, 228, 228, 247, 261, 266, 269, 286, 298, 300, 330,\n",
      "       332, 336, 342, 347, 349, 357, 370, 370, 371, 371, 395, 409, 415,\n",
      "       426, 426, 430, 435, 445, 445, 453, 453, 455, 459, 468, 484, 486,\n",
      "       494, 494, 502, 522, 522, 533, 535, 579, 584, 589, 593, 601, 604,\n",
      "       619, 621, 643, 645, 655, 666, 673, 684, 684, 695, 697, 703, 706,\n",
      "       706, 753], dtype=int64), array([6, 2, 4, 5, 4, 2, 6, 2, 5, 6, 2, 5, 1, 2, 2, 5, 0, 4, 7, 5, 4, 0,\n",
      "       2, 5, 1, 4, 2, 4, 2, 4, 6, 4, 2, 2, 2, 4, 0, 2, 6, 2, 2, 1, 2, 1,\n",
      "       2, 4, 6, 5, 6, 6, 4, 4, 2, 5, 2, 2, 5, 6, 2, 7, 0, 7, 2, 2, 4, 2,\n",
      "       5, 1, 2, 5, 2, 2, 3, 4, 2, 6, 2, 2, 2, 6, 2, 4, 4, 7, 5, 5, 7, 4,\n",
      "       2, 2, 2, 5, 4], dtype=int64))\n"
     ]
    }
   ],
   "source": [
    "threshold = 3\n",
    "print(np.where(z > threshold))"
   ]
  },
  {
   "cell_type": "markdown",
   "metadata": {},
   "source": [
    "Don’t be confused by the results. The first array contains the list of row numbers and second array respective column numbers, which mean z[4][6] have a Z-score higher than 3."
   ]
  },
  {
   "cell_type": "code",
   "execution_count": 10,
   "metadata": {},
   "outputs": [
    {
     "data": {
      "text/plain": [
       "5.484909100466951"
      ]
     },
     "execution_count": 10,
     "metadata": {},
     "output_type": "execute_result"
    }
   ],
   "source": [
    "z[4][6]"
   ]
  },
  {
   "cell_type": "markdown",
   "metadata": {},
   "source": [
    "#### Outlier Removal\n",
    "\n",
    "Previously, we saw how one can detect the outlier using Z-score but now we want to remove or filter the outliers and get the clean data. This can be done with just one line code as we have already calculated the Z-score."
   ]
  },
  {
   "cell_type": "code",
   "execution_count": 11,
   "metadata": {},
   "outputs": [
    {
     "data": {
      "text/plain": [
       "(768, 9)"
      ]
     },
     "execution_count": 11,
     "metadata": {},
     "output_type": "execute_result"
    }
   ],
   "source": [
    "# Before removal\n",
    "df.shape"
   ]
  },
  {
   "cell_type": "code",
   "execution_count": 12,
   "metadata": {},
   "outputs": [
    {
     "data": {
      "text/plain": [
       "(688, 9)"
      ]
     },
     "execution_count": 12,
     "metadata": {},
     "output_type": "execute_result"
    }
   ],
   "source": [
    "# Remove outlier\n",
    "df = df[(z < threshold).all(axis=1)]\n",
    "\n",
    "# After removal\n",
    "df.shape"
   ]
  },
  {
   "cell_type": "markdown",
   "metadata": {},
   "source": [
    "## Dimensionality Reduction with PCA"
   ]
  },
  {
   "cell_type": "code",
   "execution_count": 13,
   "metadata": {},
   "outputs": [],
   "source": [
    "# X variable contains all columns from dataset but \"class\" column\n",
    "X = df.drop('Outcome', axis=1).values\n",
    "\n",
    "# y variables contains only \"class\" column\n",
    "y = df['Outcome'].values"
   ]
  },
  {
   "cell_type": "markdown",
   "metadata": {},
   "source": [
    "We can clearly see that we have 10 feature in out dataset. I wish I could visualize each point in 10-dimensional space, but I just can’t. So, we need to find a way to reduce the dimensionality of our data.\n",
    "\n",
    "The naive thing to do would be to check the correlation of some of the features and hope that some of them are repeats (can be removed). Let’s try it out and display the correlation matrix."
   ]
  },
  {
   "cell_type": "code",
   "execution_count": 14,
   "metadata": {},
   "outputs": [
    {
     "data": {
      "text/html": [
       "<style  type=\"text/css\" >\n",
       "    #T_87777028_6b19_11eb_b0f8_ac2b6ef937afrow0_col0 {\n",
       "            background-color:  #b40426;\n",
       "            color:  #f1f1f1;\n",
       "        }    #T_87777028_6b19_11eb_b0f8_ac2b6ef937afrow0_col1 {\n",
       "            background-color:  #6a8bef;\n",
       "            color:  #000000;\n",
       "        }    #T_87777028_6b19_11eb_b0f8_ac2b6ef937afrow0_col2 {\n",
       "            background-color:  #97b8ff;\n",
       "            color:  #000000;\n",
       "        }    #T_87777028_6b19_11eb_b0f8_ac2b6ef937afrow0_col3 {\n",
       "            background-color:  #485fd1;\n",
       "            color:  #f1f1f1;\n",
       "        }    #T_87777028_6b19_11eb_b0f8_ac2b6ef937afrow0_col4 {\n",
       "            background-color:  #3b4cc0;\n",
       "            color:  #f1f1f1;\n",
       "        }    #T_87777028_6b19_11eb_b0f8_ac2b6ef937afrow0_col5 {\n",
       "            background-color:  #3b4cc0;\n",
       "            color:  #f1f1f1;\n",
       "        }    #T_87777028_6b19_11eb_b0f8_ac2b6ef937afrow0_col6 {\n",
       "            background-color:  #3b4cc0;\n",
       "            color:  #f1f1f1;\n",
       "        }    #T_87777028_6b19_11eb_b0f8_ac2b6ef937afrow0_col7 {\n",
       "            background-color:  #f5c4ac;\n",
       "            color:  #000000;\n",
       "        }    #T_87777028_6b19_11eb_b0f8_ac2b6ef937afrow0_col8 {\n",
       "            background-color:  #7597f6;\n",
       "            color:  #000000;\n",
       "        }    #T_87777028_6b19_11eb_b0f8_ac2b6ef937afrow1_col0 {\n",
       "            background-color:  #86a9fc;\n",
       "            color:  #000000;\n",
       "        }    #T_87777028_6b19_11eb_b0f8_ac2b6ef937afrow1_col1 {\n",
       "            background-color:  #b40426;\n",
       "            color:  #f1f1f1;\n",
       "        }    #T_87777028_6b19_11eb_b0f8_ac2b6ef937afrow1_col2 {\n",
       "            background-color:  #9bbcff;\n",
       "            color:  #000000;\n",
       "        }    #T_87777028_6b19_11eb_b0f8_ac2b6ef937afrow1_col3 {\n",
       "            background-color:  #6687ed;\n",
       "            color:  #000000;\n",
       "        }    #T_87777028_6b19_11eb_b0f8_ac2b6ef937afrow1_col4 {\n",
       "            background-color:  #a7c5fe;\n",
       "            color:  #000000;\n",
       "        }    #T_87777028_6b19_11eb_b0f8_ac2b6ef937afrow1_col5 {\n",
       "            background-color:  #6c8ff1;\n",
       "            color:  #000000;\n",
       "        }    #T_87777028_6b19_11eb_b0f8_ac2b6ef937afrow1_col6 {\n",
       "            background-color:  #5673e0;\n",
       "            color:  #000000;\n",
       "        }    #T_87777028_6b19_11eb_b0f8_ac2b6ef937afrow1_col7 {\n",
       "            background-color:  #b3cdfb;\n",
       "            color:  #000000;\n",
       "        }    #T_87777028_6b19_11eb_b0f8_ac2b6ef937afrow1_col8 {\n",
       "            background-color:  #cedaeb;\n",
       "            color:  #000000;\n",
       "        }    #T_87777028_6b19_11eb_b0f8_ac2b6ef937afrow2_col0 {\n",
       "            background-color:  #9ebeff;\n",
       "            color:  #000000;\n",
       "        }    #T_87777028_6b19_11eb_b0f8_ac2b6ef937afrow2_col1 {\n",
       "            background-color:  #86a9fc;\n",
       "            color:  #000000;\n",
       "        }    #T_87777028_6b19_11eb_b0f8_ac2b6ef937afrow2_col2 {\n",
       "            background-color:  #b40426;\n",
       "            color:  #f1f1f1;\n",
       "        }    #T_87777028_6b19_11eb_b0f8_ac2b6ef937afrow2_col3 {\n",
       "            background-color:  #6485ec;\n",
       "            color:  #000000;\n",
       "        }    #T_87777028_6b19_11eb_b0f8_ac2b6ef937afrow2_col4 {\n",
       "            background-color:  #3d50c3;\n",
       "            color:  #f1f1f1;\n",
       "        }    #T_87777028_6b19_11eb_b0f8_ac2b6ef937afrow2_col5 {\n",
       "            background-color:  #89acfd;\n",
       "            color:  #000000;\n",
       "        }    #T_87777028_6b19_11eb_b0f8_ac2b6ef937afrow2_col6 {\n",
       "            background-color:  #3f53c6;\n",
       "            color:  #f1f1f1;\n",
       "        }    #T_87777028_6b19_11eb_b0f8_ac2b6ef937afrow2_col7 {\n",
       "            background-color:  #ccd9ed;\n",
       "            color:  #000000;\n",
       "        }    #T_87777028_6b19_11eb_b0f8_ac2b6ef937afrow2_col8 {\n",
       "            background-color:  #6485ec;\n",
       "            color:  #000000;\n",
       "        }    #T_87777028_6b19_11eb_b0f8_ac2b6ef937afrow3_col0 {\n",
       "            background-color:  #3b4cc0;\n",
       "            color:  #f1f1f1;\n",
       "        }    #T_87777028_6b19_11eb_b0f8_ac2b6ef937afrow3_col1 {\n",
       "            background-color:  #3b4cc0;\n",
       "            color:  #f1f1f1;\n",
       "        }    #T_87777028_6b19_11eb_b0f8_ac2b6ef937afrow3_col2 {\n",
       "            background-color:  #506bda;\n",
       "            color:  #000000;\n",
       "        }    #T_87777028_6b19_11eb_b0f8_ac2b6ef937afrow3_col3 {\n",
       "            background-color:  #b40426;\n",
       "            color:  #f1f1f1;\n",
       "        }    #T_87777028_6b19_11eb_b0f8_ac2b6ef937afrow3_col4 {\n",
       "            background-color:  #dddcdc;\n",
       "            color:  #000000;\n",
       "        }    #T_87777028_6b19_11eb_b0f8_ac2b6ef937afrow3_col5 {\n",
       "            background-color:  #b2ccfb;\n",
       "            color:  #000000;\n",
       "        }    #T_87777028_6b19_11eb_b0f8_ac2b6ef937afrow3_col6 {\n",
       "            background-color:  #6687ed;\n",
       "            color:  #000000;\n",
       "        }    #T_87777028_6b19_11eb_b0f8_ac2b6ef937afrow3_col7 {\n",
       "            background-color:  #3b4cc0;\n",
       "            color:  #f1f1f1;\n",
       "        }    #T_87777028_6b19_11eb_b0f8_ac2b6ef937afrow3_col8 {\n",
       "            background-color:  #3b4cc0;\n",
       "            color:  #f1f1f1;\n",
       "        }    #T_87777028_6b19_11eb_b0f8_ac2b6ef937afrow4_col0 {\n",
       "            background-color:  #3e51c5;\n",
       "            color:  #f1f1f1;\n",
       "        }    #T_87777028_6b19_11eb_b0f8_ac2b6ef937afrow4_col1 {\n",
       "            background-color:  #93b5fe;\n",
       "            color:  #000000;\n",
       "        }    #T_87777028_6b19_11eb_b0f8_ac2b6ef937afrow4_col2 {\n",
       "            background-color:  #3b4cc0;\n",
       "            color:  #f1f1f1;\n",
       "        }    #T_87777028_6b19_11eb_b0f8_ac2b6ef937afrow4_col3 {\n",
       "            background-color:  #e5d8d1;\n",
       "            color:  #000000;\n",
       "        }    #T_87777028_6b19_11eb_b0f8_ac2b6ef937afrow4_col4 {\n",
       "            background-color:  #b40426;\n",
       "            color:  #f1f1f1;\n",
       "        }    #T_87777028_6b19_11eb_b0f8_ac2b6ef937afrow4_col5 {\n",
       "            background-color:  #6282ea;\n",
       "            color:  #000000;\n",
       "        }    #T_87777028_6b19_11eb_b0f8_ac2b6ef937afrow4_col6 {\n",
       "            background-color:  #7093f3;\n",
       "            color:  #000000;\n",
       "        }    #T_87777028_6b19_11eb_b0f8_ac2b6ef937afrow4_col7 {\n",
       "            background-color:  #4c66d6;\n",
       "            color:  #000000;\n",
       "        }    #T_87777028_6b19_11eb_b0f8_ac2b6ef937afrow4_col8 {\n",
       "            background-color:  #4b64d5;\n",
       "            color:  #f1f1f1;\n",
       "        }    #T_87777028_6b19_11eb_b0f8_ac2b6ef937afrow5_col0 {\n",
       "            background-color:  #6282ea;\n",
       "            color:  #000000;\n",
       "        }    #T_87777028_6b19_11eb_b0f8_ac2b6ef937afrow5_col1 {\n",
       "            background-color:  #779af7;\n",
       "            color:  #000000;\n",
       "        }    #T_87777028_6b19_11eb_b0f8_ac2b6ef937afrow5_col2 {\n",
       "            background-color:  #a6c4fe;\n",
       "            color:  #000000;\n",
       "        }    #T_87777028_6b19_11eb_b0f8_ac2b6ef937afrow5_col3 {\n",
       "            background-color:  #d3dbe7;\n",
       "            color:  #000000;\n",
       "        }    #T_87777028_6b19_11eb_b0f8_ac2b6ef937afrow5_col4 {\n",
       "            background-color:  #85a8fc;\n",
       "            color:  #000000;\n",
       "        }    #T_87777028_6b19_11eb_b0f8_ac2b6ef937afrow5_col5 {\n",
       "            background-color:  #b40426;\n",
       "            color:  #f1f1f1;\n",
       "        }    #T_87777028_6b19_11eb_b0f8_ac2b6ef937afrow5_col6 {\n",
       "            background-color:  #5d7ce6;\n",
       "            color:  #000000;\n",
       "        }    #T_87777028_6b19_11eb_b0f8_ac2b6ef937afrow5_col7 {\n",
       "            background-color:  #7597f6;\n",
       "            color:  #000000;\n",
       "        }    #T_87777028_6b19_11eb_b0f8_ac2b6ef937afrow5_col8 {\n",
       "            background-color:  #8fb1fe;\n",
       "            color:  #000000;\n",
       "        }    #T_87777028_6b19_11eb_b0f8_ac2b6ef937afrow6_col0 {\n",
       "            background-color:  #5a78e4;\n",
       "            color:  #000000;\n",
       "        }    #T_87777028_6b19_11eb_b0f8_ac2b6ef937afrow6_col1 {\n",
       "            background-color:  #5875e1;\n",
       "            color:  #000000;\n",
       "        }    #T_87777028_6b19_11eb_b0f8_ac2b6ef937afrow6_col2 {\n",
       "            background-color:  #5875e1;\n",
       "            color:  #000000;\n",
       "        }    #T_87777028_6b19_11eb_b0f8_ac2b6ef937afrow6_col3 {\n",
       "            background-color:  #92b4fe;\n",
       "            color:  #000000;\n",
       "        }    #T_87777028_6b19_11eb_b0f8_ac2b6ef937afrow6_col4 {\n",
       "            background-color:  #8badfd;\n",
       "            color:  #000000;\n",
       "        }    #T_87777028_6b19_11eb_b0f8_ac2b6ef937afrow6_col5 {\n",
       "            background-color:  #5470de;\n",
       "            color:  #000000;\n",
       "        }    #T_87777028_6b19_11eb_b0f8_ac2b6ef937afrow6_col6 {\n",
       "            background-color:  #b40426;\n",
       "            color:  #f1f1f1;\n",
       "        }    #T_87777028_6b19_11eb_b0f8_ac2b6ef937afrow6_col7 {\n",
       "            background-color:  #7597f6;\n",
       "            color:  #000000;\n",
       "        }    #T_87777028_6b19_11eb_b0f8_ac2b6ef937afrow6_col8 {\n",
       "            background-color:  #6f92f3;\n",
       "            color:  #000000;\n",
       "        }    #T_87777028_6b19_11eb_b0f8_ac2b6ef937afrow7_col0 {\n",
       "            background-color:  #f2c9b4;\n",
       "            color:  #000000;\n",
       "        }    #T_87777028_6b19_11eb_b0f8_ac2b6ef937afrow7_col1 {\n",
       "            background-color:  #90b2fe;\n",
       "            color:  #000000;\n",
       "        }    #T_87777028_6b19_11eb_b0f8_ac2b6ef937afrow7_col2 {\n",
       "            background-color:  #bfd3f6;\n",
       "            color:  #000000;\n",
       "        }    #T_87777028_6b19_11eb_b0f8_ac2b6ef937afrow7_col3 {\n",
       "            background-color:  #3b4cc0;\n",
       "            color:  #f1f1f1;\n",
       "        }    #T_87777028_6b19_11eb_b0f8_ac2b6ef937afrow7_col4 {\n",
       "            background-color:  #3b4cc0;\n",
       "            color:  #f1f1f1;\n",
       "        }    #T_87777028_6b19_11eb_b0f8_ac2b6ef937afrow7_col5 {\n",
       "            background-color:  #3f53c6;\n",
       "            color:  #f1f1f1;\n",
       "        }    #T_87777028_6b19_11eb_b0f8_ac2b6ef937afrow7_col6 {\n",
       "            background-color:  #485fd1;\n",
       "            color:  #f1f1f1;\n",
       "        }    #T_87777028_6b19_11eb_b0f8_ac2b6ef937afrow7_col7 {\n",
       "            background-color:  #b40426;\n",
       "            color:  #f1f1f1;\n",
       "        }    #T_87777028_6b19_11eb_b0f8_ac2b6ef937afrow7_col8 {\n",
       "            background-color:  #7b9ff9;\n",
       "            color:  #000000;\n",
       "        }    #T_87777028_6b19_11eb_b0f8_ac2b6ef937afrow8_col0 {\n",
       "            background-color:  #9dbdff;\n",
       "            color:  #000000;\n",
       "        }    #T_87777028_6b19_11eb_b0f8_ac2b6ef937afrow8_col1 {\n",
       "            background-color:  #d6dce4;\n",
       "            color:  #000000;\n",
       "        }    #T_87777028_6b19_11eb_b0f8_ac2b6ef937afrow8_col2 {\n",
       "            background-color:  #88abfd;\n",
       "            color:  #000000;\n",
       "        }    #T_87777028_6b19_11eb_b0f8_ac2b6ef937afrow8_col3 {\n",
       "            background-color:  #7597f6;\n",
       "            color:  #000000;\n",
       "        }    #T_87777028_6b19_11eb_b0f8_ac2b6ef937afrow8_col4 {\n",
       "            background-color:  #7396f5;\n",
       "            color:  #000000;\n",
       "        }    #T_87777028_6b19_11eb_b0f8_ac2b6ef937afrow8_col5 {\n",
       "            background-color:  #93b5fe;\n",
       "            color:  #000000;\n",
       "        }    #T_87777028_6b19_11eb_b0f8_ac2b6ef937afrow8_col6 {\n",
       "            background-color:  #7b9ff9;\n",
       "            color:  #000000;\n",
       "        }    #T_87777028_6b19_11eb_b0f8_ac2b6ef937afrow8_col7 {\n",
       "            background-color:  #aec9fc;\n",
       "            color:  #000000;\n",
       "        }    #T_87777028_6b19_11eb_b0f8_ac2b6ef937afrow8_col8 {\n",
       "            background-color:  #b40426;\n",
       "            color:  #f1f1f1;\n",
       "        }</style><table id=\"T_87777028_6b19_11eb_b0f8_ac2b6ef937af\" ><thead>    <tr>        <th class=\"blank level0\" ></th>        <th class=\"col_heading level0 col0\" >Pregnancies</th>        <th class=\"col_heading level0 col1\" >Glucose</th>        <th class=\"col_heading level0 col2\" >BloodPressure</th>        <th class=\"col_heading level0 col3\" >SkinThickness</th>        <th class=\"col_heading level0 col4\" >Insulin</th>        <th class=\"col_heading level0 col5\" >BMI</th>        <th class=\"col_heading level0 col6\" >DiabetesPedigreeFunction</th>        <th class=\"col_heading level0 col7\" >Age</th>        <th class=\"col_heading level0 col8\" >Outcome</th>    </tr></thead><tbody>\n",
       "                <tr>\n",
       "                        <th id=\"T_87777028_6b19_11eb_b0f8_ac2b6ef937aflevel0_row0\" class=\"row_heading level0 row0\" >Pregnancies</th>\n",
       "                        <td id=\"T_87777028_6b19_11eb_b0f8_ac2b6ef937afrow0_col0\" class=\"data row0 col0\" >1.000000</td>\n",
       "                        <td id=\"T_87777028_6b19_11eb_b0f8_ac2b6ef937afrow0_col1\" class=\"data row0 col1\" >0.156470</td>\n",
       "                        <td id=\"T_87777028_6b19_11eb_b0f8_ac2b6ef937afrow0_col2\" class=\"data row0 col2\" >0.229881</td>\n",
       "                        <td id=\"T_87777028_6b19_11eb_b0f8_ac2b6ef937afrow0_col3\" class=\"data row0 col3\" >-0.097721</td>\n",
       "                        <td id=\"T_87777028_6b19_11eb_b0f8_ac2b6ef937afrow0_col4\" class=\"data row0 col4\" >-0.080638</td>\n",
       "                        <td id=\"T_87777028_6b19_11eb_b0f8_ac2b6ef937afrow0_col5\" class=\"data row0 col5\" >0.043549</td>\n",
       "                        <td id=\"T_87777028_6b19_11eb_b0f8_ac2b6ef937afrow0_col6\" class=\"data row0 col6\" >0.015522</td>\n",
       "                        <td id=\"T_87777028_6b19_11eb_b0f8_ac2b6ef937afrow0_col7\" class=\"data row0 col7\" >0.569787</td>\n",
       "                        <td id=\"T_87777028_6b19_11eb_b0f8_ac2b6ef937afrow0_col8\" class=\"data row0 col8\" >0.226382</td>\n",
       "            </tr>\n",
       "            <tr>\n",
       "                        <th id=\"T_87777028_6b19_11eb_b0f8_ac2b6ef937aflevel0_row1\" class=\"row_heading level0 row1\" >Glucose</th>\n",
       "                        <td id=\"T_87777028_6b19_11eb_b0f8_ac2b6ef937afrow1_col0\" class=\"data row1 col0\" >0.156470</td>\n",
       "                        <td id=\"T_87777028_6b19_11eb_b0f8_ac2b6ef937afrow1_col1\" class=\"data row1 col1\" >1.000000</td>\n",
       "                        <td id=\"T_87777028_6b19_11eb_b0f8_ac2b6ef937afrow1_col2\" class=\"data row1 col2\" >0.240560</td>\n",
       "                        <td id=\"T_87777028_6b19_11eb_b0f8_ac2b6ef937afrow1_col3\" class=\"data row1 col3\" >0.008577</td>\n",
       "                        <td id=\"T_87777028_6b19_11eb_b0f8_ac2b6ef937afrow1_col4\" class=\"data row1 col4\" >0.272654</td>\n",
       "                        <td id=\"T_87777028_6b19_11eb_b0f8_ac2b6ef937afrow1_col5\" class=\"data row1 col5\" >0.196665</td>\n",
       "                        <td id=\"T_87777028_6b19_11eb_b0f8_ac2b6ef937afrow1_col6\" class=\"data row1 col6\" >0.104521</td>\n",
       "                        <td id=\"T_87777028_6b19_11eb_b0f8_ac2b6ef937afrow1_col7\" class=\"data row1 col7\" >0.266930</td>\n",
       "                        <td id=\"T_87777028_6b19_11eb_b0f8_ac2b6ef937afrow1_col8\" class=\"data row1 col8\" >0.478614</td>\n",
       "            </tr>\n",
       "            <tr>\n",
       "                        <th id=\"T_87777028_6b19_11eb_b0f8_ac2b6ef937aflevel0_row2\" class=\"row_heading level0 row2\" >BloodPressure</th>\n",
       "                        <td id=\"T_87777028_6b19_11eb_b0f8_ac2b6ef937afrow2_col0\" class=\"data row2 col0\" >0.229881</td>\n",
       "                        <td id=\"T_87777028_6b19_11eb_b0f8_ac2b6ef937afrow2_col1\" class=\"data row2 col1\" >0.240560</td>\n",
       "                        <td id=\"T_87777028_6b19_11eb_b0f8_ac2b6ef937afrow2_col2\" class=\"data row2 col2\" >1.000000</td>\n",
       "                        <td id=\"T_87777028_6b19_11eb_b0f8_ac2b6ef937afrow2_col3\" class=\"data row2 col3\" >0.005076</td>\n",
       "                        <td id=\"T_87777028_6b19_11eb_b0f8_ac2b6ef937afrow2_col4\" class=\"data row2 col4\" >-0.070572</td>\n",
       "                        <td id=\"T_87777028_6b19_11eb_b0f8_ac2b6ef937afrow2_col5\" class=\"data row2 col5\" >0.274707</td>\n",
       "                        <td id=\"T_87777028_6b19_11eb_b0f8_ac2b6ef937afrow2_col6\" class=\"data row2 col6\" >0.032757</td>\n",
       "                        <td id=\"T_87777028_6b19_11eb_b0f8_ac2b6ef937afrow2_col7\" class=\"data row2 col7\" >0.354391</td>\n",
       "                        <td id=\"T_87777028_6b19_11eb_b0f8_ac2b6ef937afrow2_col8\" class=\"data row2 col8\" >0.182521</td>\n",
       "            </tr>\n",
       "            <tr>\n",
       "                        <th id=\"T_87777028_6b19_11eb_b0f8_ac2b6ef937aflevel0_row3\" class=\"row_heading level0 row3\" >SkinThickness</th>\n",
       "                        <td id=\"T_87777028_6b19_11eb_b0f8_ac2b6ef937afrow3_col0\" class=\"data row3 col0\" >-0.097721</td>\n",
       "                        <td id=\"T_87777028_6b19_11eb_b0f8_ac2b6ef937afrow3_col1\" class=\"data row3 col1\" >0.008577</td>\n",
       "                        <td id=\"T_87777028_6b19_11eb_b0f8_ac2b6ef937afrow3_col2\" class=\"data row3 col2\" >0.005076</td>\n",
       "                        <td id=\"T_87777028_6b19_11eb_b0f8_ac2b6ef937afrow3_col3\" class=\"data row3 col3\" >1.000000</td>\n",
       "                        <td id=\"T_87777028_6b19_11eb_b0f8_ac2b6ef937afrow3_col4\" class=\"data row3 col4\" >0.462778</td>\n",
       "                        <td id=\"T_87777028_6b19_11eb_b0f8_ac2b6ef937afrow3_col5\" class=\"data row3 col5\" >0.383819</td>\n",
       "                        <td id=\"T_87777028_6b19_11eb_b0f8_ac2b6ef937afrow3_col6\" class=\"data row3 col6\" >0.153530</td>\n",
       "                        <td id=\"T_87777028_6b19_11eb_b0f8_ac2b6ef937afrow3_col7\" class=\"data row3 col7\" >-0.150039</td>\n",
       "                        <td id=\"T_87777028_6b19_11eb_b0f8_ac2b6ef937afrow3_col8\" class=\"data row3 col8\" >0.056662</td>\n",
       "            </tr>\n",
       "            <tr>\n",
       "                        <th id=\"T_87777028_6b19_11eb_b0f8_ac2b6ef937aflevel0_row4\" class=\"row_heading level0 row4\" >Insulin</th>\n",
       "                        <td id=\"T_87777028_6b19_11eb_b0f8_ac2b6ef937afrow4_col0\" class=\"data row4 col0\" >-0.080638</td>\n",
       "                        <td id=\"T_87777028_6b19_11eb_b0f8_ac2b6ef937afrow4_col1\" class=\"data row4 col1\" >0.272654</td>\n",
       "                        <td id=\"T_87777028_6b19_11eb_b0f8_ac2b6ef937afrow4_col2\" class=\"data row4 col2\" >-0.070572</td>\n",
       "                        <td id=\"T_87777028_6b19_11eb_b0f8_ac2b6ef937afrow4_col3\" class=\"data row4 col3\" >0.462778</td>\n",
       "                        <td id=\"T_87777028_6b19_11eb_b0f8_ac2b6ef937afrow4_col4\" class=\"data row4 col4\" >1.000000</td>\n",
       "                        <td id=\"T_87777028_6b19_11eb_b0f8_ac2b6ef937afrow4_col5\" class=\"data row4 col5\" >0.165428</td>\n",
       "                        <td id=\"T_87777028_6b19_11eb_b0f8_ac2b6ef937afrow4_col6\" class=\"data row4 col6\" >0.183184</td>\n",
       "                        <td id=\"T_87777028_6b19_11eb_b0f8_ac2b6ef937afrow4_col7\" class=\"data row4 col7\" >-0.081003</td>\n",
       "                        <td id=\"T_87777028_6b19_11eb_b0f8_ac2b6ef937afrow4_col8\" class=\"data row4 col8\" >0.110062</td>\n",
       "            </tr>\n",
       "            <tr>\n",
       "                        <th id=\"T_87777028_6b19_11eb_b0f8_ac2b6ef937aflevel0_row5\" class=\"row_heading level0 row5\" >BMI</th>\n",
       "                        <td id=\"T_87777028_6b19_11eb_b0f8_ac2b6ef937afrow5_col0\" class=\"data row5 col0\" >0.043549</td>\n",
       "                        <td id=\"T_87777028_6b19_11eb_b0f8_ac2b6ef937afrow5_col1\" class=\"data row5 col1\" >0.196665</td>\n",
       "                        <td id=\"T_87777028_6b19_11eb_b0f8_ac2b6ef937afrow5_col2\" class=\"data row5 col2\" >0.274707</td>\n",
       "                        <td id=\"T_87777028_6b19_11eb_b0f8_ac2b6ef937afrow5_col3\" class=\"data row5 col3\" >0.383819</td>\n",
       "                        <td id=\"T_87777028_6b19_11eb_b0f8_ac2b6ef937afrow5_col4\" class=\"data row5 col4\" >0.165428</td>\n",
       "                        <td id=\"T_87777028_6b19_11eb_b0f8_ac2b6ef937afrow5_col5\" class=\"data row5 col5\" >1.000000</td>\n",
       "                        <td id=\"T_87777028_6b19_11eb_b0f8_ac2b6ef937afrow5_col6\" class=\"data row5 col6\" >0.125714</td>\n",
       "                        <td id=\"T_87777028_6b19_11eb_b0f8_ac2b6ef937afrow5_col7\" class=\"data row5 col7\" >0.059980</td>\n",
       "                        <td id=\"T_87777028_6b19_11eb_b0f8_ac2b6ef937afrow5_col8\" class=\"data row5 col8\" >0.298056</td>\n",
       "            </tr>\n",
       "            <tr>\n",
       "                        <th id=\"T_87777028_6b19_11eb_b0f8_ac2b6ef937aflevel0_row6\" class=\"row_heading level0 row6\" >DiabetesPedigreeFunction</th>\n",
       "                        <td id=\"T_87777028_6b19_11eb_b0f8_ac2b6ef937afrow6_col0\" class=\"data row6 col0\" >0.015522</td>\n",
       "                        <td id=\"T_87777028_6b19_11eb_b0f8_ac2b6ef937afrow6_col1\" class=\"data row6 col1\" >0.104521</td>\n",
       "                        <td id=\"T_87777028_6b19_11eb_b0f8_ac2b6ef937afrow6_col2\" class=\"data row6 col2\" >0.032757</td>\n",
       "                        <td id=\"T_87777028_6b19_11eb_b0f8_ac2b6ef937afrow6_col3\" class=\"data row6 col3\" >0.153530</td>\n",
       "                        <td id=\"T_87777028_6b19_11eb_b0f8_ac2b6ef937afrow6_col4\" class=\"data row6 col4\" >0.183184</td>\n",
       "                        <td id=\"T_87777028_6b19_11eb_b0f8_ac2b6ef937afrow6_col5\" class=\"data row6 col5\" >0.125714</td>\n",
       "                        <td id=\"T_87777028_6b19_11eb_b0f8_ac2b6ef937afrow6_col6\" class=\"data row6 col6\" >1.000000</td>\n",
       "                        <td id=\"T_87777028_6b19_11eb_b0f8_ac2b6ef937afrow6_col7\" class=\"data row6 col7\" >0.060663</td>\n",
       "                        <td id=\"T_87777028_6b19_11eb_b0f8_ac2b6ef937afrow6_col8\" class=\"data row6 col8\" >0.213872</td>\n",
       "            </tr>\n",
       "            <tr>\n",
       "                        <th id=\"T_87777028_6b19_11eb_b0f8_ac2b6ef937aflevel0_row7\" class=\"row_heading level0 row7\" >Age</th>\n",
       "                        <td id=\"T_87777028_6b19_11eb_b0f8_ac2b6ef937afrow7_col0\" class=\"data row7 col0\" >0.569787</td>\n",
       "                        <td id=\"T_87777028_6b19_11eb_b0f8_ac2b6ef937afrow7_col1\" class=\"data row7 col1\" >0.266930</td>\n",
       "                        <td id=\"T_87777028_6b19_11eb_b0f8_ac2b6ef937afrow7_col2\" class=\"data row7 col2\" >0.354391</td>\n",
       "                        <td id=\"T_87777028_6b19_11eb_b0f8_ac2b6ef937afrow7_col3\" class=\"data row7 col3\" >-0.150039</td>\n",
       "                        <td id=\"T_87777028_6b19_11eb_b0f8_ac2b6ef937afrow7_col4\" class=\"data row7 col4\" >-0.081003</td>\n",
       "                        <td id=\"T_87777028_6b19_11eb_b0f8_ac2b6ef937afrow7_col5\" class=\"data row7 col5\" >0.059980</td>\n",
       "                        <td id=\"T_87777028_6b19_11eb_b0f8_ac2b6ef937afrow7_col6\" class=\"data row7 col6\" >0.060663</td>\n",
       "                        <td id=\"T_87777028_6b19_11eb_b0f8_ac2b6ef937afrow7_col7\" class=\"data row7 col7\" >1.000000</td>\n",
       "                        <td id=\"T_87777028_6b19_11eb_b0f8_ac2b6ef937afrow7_col8\" class=\"data row7 col8\" >0.246290</td>\n",
       "            </tr>\n",
       "            <tr>\n",
       "                        <th id=\"T_87777028_6b19_11eb_b0f8_ac2b6ef937aflevel0_row8\" class=\"row_heading level0 row8\" >Outcome</th>\n",
       "                        <td id=\"T_87777028_6b19_11eb_b0f8_ac2b6ef937afrow8_col0\" class=\"data row8 col0\" >0.226382</td>\n",
       "                        <td id=\"T_87777028_6b19_11eb_b0f8_ac2b6ef937afrow8_col1\" class=\"data row8 col1\" >0.478614</td>\n",
       "                        <td id=\"T_87777028_6b19_11eb_b0f8_ac2b6ef937afrow8_col2\" class=\"data row8 col2\" >0.182521</td>\n",
       "                        <td id=\"T_87777028_6b19_11eb_b0f8_ac2b6ef937afrow8_col3\" class=\"data row8 col3\" >0.056662</td>\n",
       "                        <td id=\"T_87777028_6b19_11eb_b0f8_ac2b6ef937afrow8_col4\" class=\"data row8 col4\" >0.110062</td>\n",
       "                        <td id=\"T_87777028_6b19_11eb_b0f8_ac2b6ef937afrow8_col5\" class=\"data row8 col5\" >0.298056</td>\n",
       "                        <td id=\"T_87777028_6b19_11eb_b0f8_ac2b6ef937afrow8_col6\" class=\"data row8 col6\" >0.213872</td>\n",
       "                        <td id=\"T_87777028_6b19_11eb_b0f8_ac2b6ef937afrow8_col7\" class=\"data row8 col7\" >0.246290</td>\n",
       "                        <td id=\"T_87777028_6b19_11eb_b0f8_ac2b6ef937afrow8_col8\" class=\"data row8 col8\" >1.000000</td>\n",
       "            </tr>\n",
       "    </tbody></table>"
      ],
      "text/plain": [
       "<pandas.io.formats.style.Styler at 0x21686b90888>"
      ]
     },
     "execution_count": 14,
     "metadata": {},
     "output_type": "execute_result"
    }
   ],
   "source": [
    "correlation = df.corr()\n",
    "correlation.style.background_gradient(cmap='coolwarm')"
   ]
  },
  {
   "cell_type": "markdown",
   "metadata": {},
   "source": [
    "As we can see, there are features with barely high correalation. The boxes with red ground shows us the high correalation rate. To illustrate, The correlation between Age and Pregnencies is pretty high (56%)"
   ]
  },
  {
   "cell_type": "markdown",
   "metadata": {},
   "source": [
    "### Standardize Data"
   ]
  },
  {
   "cell_type": "code",
   "execution_count": 15,
   "metadata": {},
   "outputs": [],
   "source": [
    "X = StandardScaler().fit_transform(X) # normalizing the data "
   ]
  },
  {
   "cell_type": "code",
   "execution_count": 16,
   "metadata": {},
   "outputs": [],
   "source": [
    "pca = PCA(n_components=5)\n",
    "principalComponents = pca.fit_transform(X)"
   ]
  },
  {
   "cell_type": "markdown",
   "metadata": {},
   "source": [
    "In our last experiment we were removing variables that were highly correlated. With PCA, however, we are trying to compute new characteristics (principal components) that compacts the information into certain dimensions.\n",
    "\n",
    "Most of the variance is put in the first component. What is left is put in component 2, then component 3, etc."
   ]
  },
  {
   "cell_type": "code",
   "execution_count": 17,
   "metadata": {},
   "outputs": [
    {
     "data": {
      "image/png": "[encoded data removed]",
      "text/plain": [
       "<Figure size 432x288 with 1 Axes>"
      ]
     },
     "metadata": {
      "needs_background": "light"
     },
     "output_type": "display_data"
    }
   ],
   "source": [
    "# Plotting the variances for each PC\n",
    "PC = range(1, pca.n_components_+1)\n",
    "plt.bar(PC, pca.explained_variance_ratio_, color='gold')\n",
    "plt.xlabel('Principal Components')\n",
    "plt.ylabel('Variance %')\n",
    "plt.xticks(PC)\n",
    "\n",
    "# Putting components in a dataframe for later\n",
    "PCA_components = pd.DataFrame(principalComponents, columns=['PCA-%i' % i for i in range(5)])"
   ]
  },
  {
   "cell_type": "code",
   "execution_count": 18,
   "metadata": {},
   "outputs": [
    {
     "data": {
      "text/html": [
       "<div>\n",
       "<style scoped>\n",
       "    .dataframe tbody tr th:only-of-type {\n",
       "        vertical-align: middle;\n",
       "    }\n",
       "\n",
       "    .dataframe tbody tr th {\n",
       "        vertical-align: top;\n",
       "    }\n",
       "\n",
       "    .dataframe thead th {\n",
       "        text-align: right;\n",
       "    }\n",
       "</style>\n",
       "<table border=\"1\" class=\"dataframe\">\n",
       "  <thead>\n",
       "    <tr style=\"text-align: right;\">\n",
       "      <th></th>\n",
       "      <th>PCA-0</th>\n",
       "      <th>PCA-1</th>\n",
       "      <th>PCA-2</th>\n",
       "      <th>PCA-3</th>\n",
       "      <th>PCA-4</th>\n",
       "    </tr>\n",
       "  </thead>\n",
       "  <tbody>\n",
       "    <tr>\n",
       "      <th>0</th>\n",
       "      <td>1.578058</td>\n",
       "      <td>-0.196174</td>\n",
       "      <td>0.313162</td>\n",
       "      <td>0.476384</td>\n",
       "      <td>0.264700</td>\n",
       "    </tr>\n",
       "    <tr>\n",
       "      <th>1</th>\n",
       "      <td>-1.594962</td>\n",
       "      <td>-0.297396</td>\n",
       "      <td>-0.379849</td>\n",
       "      <td>0.458892</td>\n",
       "      <td>0.410686</td>\n",
       "    </tr>\n",
       "    <tr>\n",
       "      <th>2</th>\n",
       "      <td>0.552186</td>\n",
       "      <td>-1.535948</td>\n",
       "      <td>2.107249</td>\n",
       "      <td>-0.526949</td>\n",
       "      <td>-0.960406</td>\n",
       "    </tr>\n",
       "    <tr>\n",
       "      <th>3</th>\n",
       "      <td>-1.928843</td>\n",
       "      <td>0.228629</td>\n",
       "      <td>-0.443814</td>\n",
       "      <td>-0.487247</td>\n",
       "      <td>0.454000</td>\n",
       "    </tr>\n",
       "    <tr>\n",
       "      <th>4</th>\n",
       "      <td>-0.675400</td>\n",
       "      <td>-1.835357</td>\n",
       "      <td>-0.027136</td>\n",
       "      <td>-0.555283</td>\n",
       "      <td>-0.206044</td>\n",
       "    </tr>\n",
       "  </tbody>\n",
       "</table>\n",
       "</div>"
      ],
      "text/plain": [
       "      PCA-0     PCA-1     PCA-2     PCA-3     PCA-4\n",
       "0  1.578058 -0.196174  0.313162  0.476384  0.264700\n",
       "1 -1.594962 -0.297396 -0.379849  0.458892  0.410686\n",
       "2  0.552186 -1.535948  2.107249 -0.526949 -0.960406\n",
       "3 -1.928843  0.228629 -0.443814 -0.487247  0.454000\n",
       "4 -0.675400 -1.835357 -0.027136 -0.555283 -0.206044"
      ]
     },
     "execution_count": 18,
     "metadata": {},
     "output_type": "execute_result"
    }
   ],
   "source": [
    "PCA_components.head()"
   ]
  },
  {
   "cell_type": "markdown",
   "metadata": {},
   "source": [
    "Now that we have the intuition, let’s proceed with the implementation. Let’s just plot the first 2"
   ]
  },
  {
   "cell_type": "code",
   "execution_count": 19,
   "metadata": {},
   "outputs": [
    {
     "data": {
      "image/png": "[encoded data removed]",
      "text/plain": [
       "<Figure size 864x576 with 1 Axes>"
      ]
     },
     "metadata": {
      "needs_background": "light"
     },
     "output_type": "display_data"
    }
   ],
   "source": [
    "from mpl_toolkits import mplot3d\n",
    "\n",
    "fig = plt.figure(figsize = (12,8))\n",
    "ax = plt.axes(projection='3d')\n",
    "\n",
    "# Generate array for coloring features\n",
    "color = np.random.random_integers(0, 2, len(y))\n",
    "\n",
    "ax.scatter3D(PCA_components['PCA-0'], PCA_components['PCA-1'], PCA_components['PCA-2'], c = plt.cm.magma(0.4*color), s = 60, alpha=0.8)\n",
    "\n",
    "plt.title(\" 3D SCATTER \", pad = 15)\n",
    "ax.set_xlabel('First Principal Components')\n",
    "ax.set_ylabel('Second Principal Components')\n",
    "ax.set_zlabel('Third Principal Components')\n",
    "\n",
    "plt.show()"
   ]
  },
  {
   "cell_type": "markdown",
   "metadata": {},
   "source": [
    "### Explained Variance"
   ]
  },
  {
   "cell_type": "code",
   "execution_count": 20,
   "metadata": {},
   "outputs": [
    {
     "data": {
      "text/plain": [
       "array([0.25436753, 0.2327256 , 0.1249369 , 0.11173913, 0.10420907])"
      ]
     },
     "execution_count": 20,
     "metadata": {},
     "output_type": "execute_result"
    }
   ],
   "source": [
    "pca.explained_variance_ratio_"
   ]
  },
  {
   "cell_type": "markdown",
   "metadata": {},
   "source": [
    "The explained variance tells you how much information (variance) can be attributed to each of the principal components. This is important as while you can reduce the dimensional space, you lose some of the variance (information) when you do this. By using the attribute explained_variance_ratio_, you can see that the first principal component contains 25.43% of the variance and the second principal component contains 23.27% of the variance. Together, the two components contain 48.60% of the information."
   ]
  },
  {
   "cell_type": "markdown",
   "metadata": {},
   "source": [
    "## Supervised Learning"
   ]
  },
  {
   "cell_type": "code",
   "execution_count": 37,
   "metadata": {},
   "outputs": [],
   "source": [
    "# Splitting the dataset into the Training set and Test set\n",
    "X_train, X_test, y_train, y_test = train_test_split(X, y, test_size=0.2, random_state=0)"
   ]
  },
  {
   "cell_type": "code",
   "execution_count": 38,
   "metadata": {},
   "outputs": [],
   "source": [
    "models = []\n",
    "models.append(('KNN', KNeighborsClassifier()))\n",
    "models.append(('SVC', SVC()))\n",
    "models.append(('LR', LogisticRegression()))\n",
    "models.append(('DT', DecisionTreeClassifier()))\n",
    "models.append(('GNB', GaussianNB()))\n",
    "models.append(('RF', RandomForestClassifier()))\n",
    "models.append(('GB', GradientBoostingClassifier()))"
   ]
  },
  {
   "cell_type": "code",
   "execution_count": 23,
   "metadata": {},
   "outputs": [
    {
     "data": {
      "text/html": [
       "<div>\n",
       "<style scoped>\n",
       "    .dataframe tbody tr th:only-of-type {\n",
       "        vertical-align: middle;\n",
       "    }\n",
       "\n",
       "    .dataframe tbody tr th {\n",
       "        vertical-align: top;\n",
       "    }\n",
       "\n",
       "    .dataframe thead th {\n",
       "        text-align: right;\n",
       "    }\n",
       "</style>\n",
       "<table border=\"1\" class=\"dataframe\">\n",
       "  <thead>\n",
       "    <tr style=\"text-align: right;\">\n",
       "      <th></th>\n",
       "      <th>Name</th>\n",
       "      <th>Score</th>\n",
       "    </tr>\n",
       "  </thead>\n",
       "  <tbody>\n",
       "    <tr>\n",
       "      <th>0</th>\n",
       "      <td>KNN</td>\n",
       "      <td>0.753623</td>\n",
       "    </tr>\n",
       "    <tr>\n",
       "      <th>1</th>\n",
       "      <td>SVC</td>\n",
       "      <td>0.731884</td>\n",
       "    </tr>\n",
       "    <tr>\n",
       "      <th>2</th>\n",
       "      <td>LR</td>\n",
       "      <td>0.746377</td>\n",
       "    </tr>\n",
       "    <tr>\n",
       "      <th>3</th>\n",
       "      <td>DT</td>\n",
       "      <td>0.717391</td>\n",
       "    </tr>\n",
       "    <tr>\n",
       "      <th>4</th>\n",
       "      <td>GNB</td>\n",
       "      <td>0.753623</td>\n",
       "    </tr>\n",
       "    <tr>\n",
       "      <th>5</th>\n",
       "      <td>RF</td>\n",
       "      <td>0.739130</td>\n",
       "    </tr>\n",
       "    <tr>\n",
       "      <th>6</th>\n",
       "      <td>GB</td>\n",
       "      <td>0.739130</td>\n",
       "    </tr>\n",
       "  </tbody>\n",
       "</table>\n",
       "</div>"
      ],
      "text/plain": [
       "  Name     Score\n",
       "0  KNN  0.753623\n",
       "1  SVC  0.731884\n",
       "2   LR  0.746377\n",
       "3   DT  0.717391\n",
       "4  GNB  0.753623\n",
       "5   RF  0.739130\n",
       "6   GB  0.739130"
      ]
     },
     "execution_count": 23,
     "metadata": {},
     "output_type": "execute_result"
    }
   ],
   "source": [
    "names = []\n",
    "scores = []\n",
    "for name, model in models:\n",
    "    model.fit(X_train, y_train)\n",
    "    y_pred = model.predict(X_test)\n",
    "    scores.append(accuracy_score(y_test, y_pred))\n",
    "    names.append(name)\n",
    "tr_split = pd.DataFrame({'Name': names, 'Score': scores})\n",
    "tr_split"
   ]
  },
  {
   "cell_type": "markdown",
   "metadata": {},
   "source": [
    "### K-Fold Cross-Validation"
   ]
  },
  {
   "cell_type": "markdown",
   "metadata": {},
   "source": [
    "We will move forward with K-Fold cross validation as it is more accurate and use the data efficiently. We will train the models using 10 fold cross validation and calculate the mean accuracy of the models."
   ]
  },
  {
   "cell_type": "code",
   "execution_count": 24,
   "metadata": {},
   "outputs": [
    {
     "data": {
      "text/html": [
       "<div>\n",
       "<style scoped>\n",
       "    .dataframe tbody tr th:only-of-type {\n",
       "        vertical-align: middle;\n",
       "    }\n",
       "\n",
       "    .dataframe tbody tr th {\n",
       "        vertical-align: top;\n",
       "    }\n",
       "\n",
       "    .dataframe thead th {\n",
       "        text-align: right;\n",
       "    }\n",
       "</style>\n",
       "<table border=\"1\" class=\"dataframe\">\n",
       "  <thead>\n",
       "    <tr style=\"text-align: right;\">\n",
       "      <th></th>\n",
       "      <th>Name</th>\n",
       "      <th>Score</th>\n",
       "    </tr>\n",
       "  </thead>\n",
       "  <tbody>\n",
       "    <tr>\n",
       "      <th>0</th>\n",
       "      <td>KNN</td>\n",
       "      <td>0.748593</td>\n",
       "    </tr>\n",
       "    <tr>\n",
       "      <th>1</th>\n",
       "      <td>SVC</td>\n",
       "      <td>0.768926</td>\n",
       "    </tr>\n",
       "    <tr>\n",
       "      <th>2</th>\n",
       "      <td>LR</td>\n",
       "      <td>0.787766</td>\n",
       "    </tr>\n",
       "    <tr>\n",
       "      <th>3</th>\n",
       "      <td>DT</td>\n",
       "      <td>0.715239</td>\n",
       "    </tr>\n",
       "    <tr>\n",
       "      <th>4</th>\n",
       "      <td>GNB</td>\n",
       "      <td>0.752962</td>\n",
       "    </tr>\n",
       "    <tr>\n",
       "      <th>5</th>\n",
       "      <td>RF</td>\n",
       "      <td>0.776130</td>\n",
       "    </tr>\n",
       "    <tr>\n",
       "      <th>6</th>\n",
       "      <td>GB</td>\n",
       "      <td>0.770375</td>\n",
       "    </tr>\n",
       "  </tbody>\n",
       "</table>\n",
       "</div>"
      ],
      "text/plain": [
       "  Name     Score\n",
       "0  KNN  0.748593\n",
       "1  SVC  0.768926\n",
       "2   LR  0.787766\n",
       "3   DT  0.715239\n",
       "4  GNB  0.752962\n",
       "5   RF  0.776130\n",
       "6   GB  0.770375"
      ]
     },
     "execution_count": 24,
     "metadata": {},
     "output_type": "execute_result"
    }
   ],
   "source": [
    "names = []\n",
    "scores = []\n",
    "for name, model in models:\n",
    "    \n",
    "    kfold = KFold(n_splits=10, random_state=10) \n",
    "    score = cross_val_score(model, X, y, cv=kfold, scoring='accuracy').mean()\n",
    "    \n",
    "    names.append(name)\n",
    "    scores.append(score)\n",
    "kf_cross_val = pd.DataFrame({'Name': names, 'Score': scores})\n",
    "kf_cross_val"
   ]
  },
  {
   "cell_type": "code",
   "execution_count": 25,
   "metadata": {},
   "outputs": [
    {
     "data": {
      "image/png": "[encoded data removed]",
      "text/plain": [
       "<Figure size 432x288 with 1 Axes>"
      ]
     },
     "metadata": {
      "needs_background": "light"
     },
     "output_type": "display_data"
    }
   ],
   "source": [
    "axis = sns.barplot(x = 'Name', y = 'Score', data = kf_cross_val)\n",
    "axis.set(xlabel='Classifier', ylabel='Accuracy')\n",
    "for p in axis.patches:\n",
    "    height = p.get_height()\n",
    "    axis.text(p.get_x() + p.get_width()/2, height + 0.005, '{:1.4f}'.format(height), ha=\"center\") \n",
    "    \n",
    "plt.show()"
   ]
  },
  {
   "cell_type": "markdown",
   "metadata": {},
   "source": [
    "At the baseline Logistic Regression managed to achieve a classification accuracy of 78.78 %. This should be selected as the prime candidate for the next phases."
   ]
  },
  {
   "cell_type": "markdown",
   "metadata": {},
   "source": [
    "## Unsupervised Learning By Using KMEANS"
   ]
  },
  {
   "cell_type": "code",
   "execution_count": 26,
   "metadata": {},
   "outputs": [
    {
     "data": {
      "image/png": "[encoded data removed]",
      "text/plain": [
       "<Figure size 432x288 with 1 Axes>"
      ]
     },
     "metadata": {
      "needs_background": "light"
     },
     "output_type": "display_data"
    }
   ],
   "source": [
    "inertias = []\n",
    "\n",
    "# Creating 10 K-Mean models while varying the number of clusters (k)\n",
    "for k in range(1,10):\n",
    "    model = KMeans(n_clusters=k)\n",
    "    \n",
    "    # Fit model to samples\n",
    "    model.fit(PCA_components.iloc[:,:3])\n",
    "    \n",
    "    # Append the inertia to the list of inertias\n",
    "    inertias.append(model.inertia_)\n",
    "    \n",
    "plt.plot(range(1,10), inertias, '-p', color='red')\n",
    "plt.xlabel('number of clusters, k')\n",
    "plt.ylabel('inertia')\n",
    "plt.xticks(range(1, 10))\n",
    "plt.show()"
   ]
  },
  {
   "cell_type": "markdown",
   "metadata": {},
   "source": [
    "As we can see from above graph, elbow point is looking like 3\n",
    "\n",
    "Now we know what cluster number should be. So, Let's run K-Means to cluster it, again."
   ]
  },
  {
   "cell_type": "code",
   "execution_count": 27,
   "metadata": {},
   "outputs": [
    {
     "data": {
      "image/png": "[encoded data removed]",
      "text/plain": [
       "<Figure size 432x288 with 1 Axes>"
      ]
     },
     "metadata": {
      "needs_background": "light"
     },
     "output_type": "display_data"
    }
   ],
   "source": [
    "model = KMeans(n_clusters=3)\n",
    "model.fit(PCA_components.iloc[:,:2])\n",
    "\n",
    "labels = model.predict(PCA_components.iloc[:,:2])\n",
    "plt.scatter(PCA_components[\"PCA-0\"], PCA_components[\"PCA-1\"], c=labels)\n",
    "plt.show()"
   ]
  },
  {
   "cell_type": "markdown",
   "metadata": {},
   "source": [
    "## Association Rule Mining"
   ]
  },
  {
   "cell_type": "code",
   "execution_count": 28,
   "metadata": {},
   "outputs": [],
   "source": [
    "from apyori import apriori"
   ]
  },
  {
   "cell_type": "code",
   "execution_count": 29,
   "metadata": {},
   "outputs": [],
   "source": [
    "# X variable contains all columns from dataset but \"class\" column\n",
    "rule_x = df.drop('Outcome', axis=1).values"
   ]
  },
  {
   "cell_type": "code",
   "execution_count": 30,
   "metadata": {},
   "outputs": [
    {
     "data": {
      "text/plain": [
       "(688, 8)"
      ]
     },
     "execution_count": 30,
     "metadata": {},
     "output_type": "execute_result"
    }
   ],
   "source": [
    "rule_x.shape"
   ]
  },
  {
   "cell_type": "code",
   "execution_count": 31,
   "metadata": {},
   "outputs": [],
   "source": [
    "records = []\n",
    "for i in range(0, 688):\n",
    "    records.append([str(rule_x[i,j]) for j in range(0, 8)])"
   ]
  },
  {
   "cell_type": "code",
   "execution_count": 32,
   "metadata": {},
   "outputs": [],
   "source": [
    "association_rules = apriori(records, min_support=0.0045, min_confidence=0.2, min_lift=3, min_length=2)\n",
    "association_results = list(association_rules)"
   ]
  },
  {
   "cell_type": "code",
   "execution_count": 33,
   "metadata": {},
   "outputs": [
    {
     "name": "stdout",
     "output_type": "stream",
     "text": [
      "52\n"
     ]
    }
   ],
   "source": [
    "print(len(association_results))"
   ]
  },
  {
   "cell_type": "code",
   "execution_count": 34,
   "metadata": {},
   "outputs": [
    {
     "name": "stdout",
     "output_type": "stream",
     "text": [
      "RelationRecord(items=frozenset({'1.0', '180.0'}), support=0.007267441860465116, ordered_statistics=[OrderedStatistic(items_base=frozenset({'180.0'}), items_add=frozenset({'1.0'}), confidence=0.5555555555555555, lift=3.0096237970253714)])\n"
     ]
    }
   ],
   "source": [
    "print(association_results[0])"
   ]
  },
  {
   "cell_type": "code",
   "execution_count": 35,
   "metadata": {},
   "outputs": [
    {
     "name": "stdout",
     "output_type": "stream",
     "text": [
      "Rule: 1.0 -> 180.0\n",
      "Support: 0.007267441860465116\n",
      "Confidence: 0.5555555555555555\n",
      "Lift: 3.0096237970253714\n",
      "=====================================\n",
      "Rule: 1.0 -> 97.0\n",
      "Support: 0.007267441860465116\n",
      "Confidence: 0.5555555555555555\n",
      "Lift: 3.0096237970253714\n",
      "=====================================\n",
      "Rule: 11.0 -> 80.0\n",
      "Support: 0.005813953488372093\n",
      "Confidence: 0.25\n",
      "Lift: 4.095238095238096\n",
      "=====================================\n",
      "Rule: 4.0 -> 110.0\n",
      "Support: 0.005813953488372093\n",
      "Confidence: 0.3076923076923077\n",
      "Lift: 3.3601953601953607\n",
      "=====================================\n",
      "Rule: 24.0 -> 112.0\n",
      "Support: 0.005813953488372093\n",
      "Confidence: 0.2857142857142857\n",
      "Lift: 3.3891625615763545\n",
      "=====================================\n",
      "Rule: 115.0 -> 28.0\n",
      "Support: 0.005813953488372093\n",
      "Confidence: 0.3076923076923077\n",
      "Lift: 3.848951048951049\n",
      "=====================================\n",
      "Rule: 62.0 -> 12.0\n",
      "Support: 0.005813953488372093\n",
      "Confidence: 0.25\n",
      "Lift: 4.914285714285715\n",
      "=====================================\n",
      "Rule: 31.0 -> 125.0\n",
      "Support: 0.005813953488372093\n",
      "Confidence: 0.23529411764705882\n",
      "Lift: 3.9483500717360114\n",
      "=====================================\n",
      "Rule: 29.0 -> 126.0\n",
      "Support: 0.005813953488372093\n",
      "Confidence: 0.3333333333333333\n",
      "Lift: 4.879432624113475\n",
      "=====================================\n",
      "Rule: 128.0 -> 24.0\n",
      "Support: 0.005813953488372093\n",
      "Confidence: 0.3333333333333333\n",
      "Lift: 3.954022988505747\n",
      "=====================================\n",
      "Rule: 144.0 -> 82.0\n",
      "Support: 0.005813953488372093\n",
      "Confidence: 0.4444444444444444\n",
      "Lift: 10.192592592592591\n",
      "=====================================\n",
      "Rule: 3.0 -> 158.0\n",
      "Support: 0.005813953488372093\n",
      "Confidence: 0.4\n",
      "Lift: 3.9884057971014495\n",
      "=====================================\n",
      "Rule: 25.0 -> 180.0\n",
      "Support: 0.005813953488372093\n",
      "Confidence: 0.4444444444444444\n",
      "Lift: 5.364522417153996\n",
      "=====================================\n",
      "Rule: 30.8 -> 21.0\n",
      "Support: 0.005813953488372093\n",
      "Confidence: 0.4444444444444444\n",
      "Lift: 4.496732026143791\n",
      "=====================================\n",
      "Rule: 24.0 -> 54.0\n",
      "Support: 0.00872093023255814\n",
      "Confidence: 0.2727272727272727\n",
      "Lift: 3.2351097178683386\n",
      "=====================================\n",
      "Rule: 25.0 -> 31.6\n",
      "Support: 0.005813953488372093\n",
      "Confidence: 0.3333333333333333\n",
      "Lift: 4.023391812865497\n",
      "=====================================\n",
      "Rule: 26.0 -> 94.0\n",
      "Support: 0.005813953488372093\n",
      "Confidence: 0.21052631578947367\n",
      "Lift: 3.081746920492721\n",
      "=====================================\n",
      "Rule: 28.0 -> 31.6\n",
      "Support: 0.005813953488372093\n",
      "Confidence: 0.3333333333333333\n",
      "Lift: 4.169696969696969\n",
      "=====================================\n",
      "Rule: 4.0 -> 28.9\n",
      "Support: 0.005813953488372093\n",
      "Confidence: 0.8\n",
      "Lift: 8.736507936507937\n",
      "=====================================\n",
      "Rule: 35.0 -> 29.0\n",
      "Support: 0.007267441860465116\n",
      "Confidence: 0.20833333333333334\n",
      "Lift: 3.049645390070922\n",
      "=====================================\n",
      "Rule: 3.0 -> 31.6\n",
      "Support: 0.007267441860465116\n",
      "Confidence: 0.4166666666666667\n",
      "Lift: 4.154589371980677\n",
      "=====================================\n",
      "Rule: 30.0 -> 99.0\n",
      "Support: 0.005813953488372093\n",
      "Confidence: 0.23529411764705882\n",
      "Lift: 3.444305381727159\n",
      "=====================================\n",
      "Rule: 95.0 -> 32.0\n",
      "Support: 0.005813953488372093\n",
      "Confidence: 0.25\n",
      "Lift: 3.127272727272727\n",
      "=====================================\n",
      "Rule: 70.0 -> 34.2\n",
      "Support: 0.005813953488372093\n",
      "Confidence: 0.5\n",
      "Lift: 6.142857142857142\n",
      "=====================================\n",
      "Rule: 78.0 -> 40.0\n",
      "Support: 0.011627906976744186\n",
      "Confidence: 0.25\n",
      "Lift: 3.510204081632653\n",
      "=====================================\n",
      "Rule: 7.0 -> 41.0\n",
      "Support: 0.011627906976744186\n",
      "Confidence: 0.25\n",
      "Lift: 4.0\n",
      "=====================================\n",
      "Rule: 78.0 -> 45.0\n",
      "Support: 0.00872093023255814\n",
      "Confidence: 0.25\n",
      "Lift: 3.510204081632653\n",
      "=====================================\n",
      "Rule: 68.0 -> 49.0\n",
      "Support: 0.005813953488372093\n",
      "Confidence: 0.3333333333333333\n",
      "Lift: 4.9855072463768115\n",
      "=====================================\n",
      "Rule: 92.0 -> 62.0\n",
      "Support: 0.007267441860465116\n",
      "Confidence: 0.27777777777777773\n",
      "Lift: 5.46031746031746\n",
      "=====================================\n",
      "Rule: 0.0 -> 1.0\n",
      "Support: 0.005813953488372093\n",
      "Confidence: 0.23529411764705882\n",
      "Lift: 4.260061919504643\n",
      "=====================================\n",
      "Rule: 0.0 -> 38.0\n",
      "Support: 0.005813953488372093\n",
      "Confidence: 0.21052631578947367\n",
      "Lift: 5.793684210526315\n",
      "=====================================\n",
      "Rule: 0.0 -> 2.0\n",
      "Support: 0.010174418604651164\n",
      "Confidence: 0.23333333333333334\n",
      "Lift: 3.0871794871794873\n",
      "=====================================\n",
      "Rule: 0.0 -> 30.8\n",
      "Support: 0.005813953488372093\n",
      "Confidence: 0.4444444444444444\n",
      "Lift: 7.644444444444444\n",
      "=====================================\n",
      "Rule: 0.0 -> 64.0\n",
      "Support: 0.011627906976744186\n",
      "Confidence: 0.3333333333333333\n",
      "Lift: 3.372549019607843\n",
      "=====================================\n",
      "Rule: 0.0 -> 25.0\n",
      "Support: 0.00872093023255814\n",
      "Confidence: 0.21428571428571427\n",
      "Lift: 3.59581881533101\n",
      "=====================================\n",
      "Rule: 0.0 -> 25.0\n",
      "Support: 0.007267441860465116\n",
      "Confidence: 0.25\n",
      "Lift: 3.017543859649123\n",
      "=====================================\n",
      "Rule: 0.0 -> 26.0\n",
      "Support: 0.005813953488372093\n",
      "Confidence: 0.2222222222222222\n",
      "Lift: 3.4747474747474745\n",
      "=====================================\n",
      "Rule: 0.0 -> 35.0\n",
      "Support: 0.005813953488372093\n",
      "Confidence: 0.2\n",
      "Lift: 5.733333333333333\n",
      "=====================================\n",
      "Rule: 0.0 -> 31.0\n",
      "Support: 0.005813953488372093\n",
      "Confidence: 0.2\n",
      "Lift: 3.3560975609756096\n",
      "=====================================\n",
      "Rule: 0.0 -> 5.0\n",
      "Support: 0.005813953488372093\n",
      "Confidence: 0.23529411764705882\n",
      "Lift: 3.054384017758047\n",
      "=====================================\n",
      "Rule: 0.0 -> 40.0\n",
      "Support: 0.007267441860465116\n",
      "Confidence: 0.3333333333333333\n",
      "Lift: 4.680272108843537\n",
      "=====================================\n",
      "Rule: 0.0 -> 41.0\n",
      "Support: 0.00872093023255814\n",
      "Confidence: 0.35294117647058826\n",
      "Lift: 5.647058823529412\n",
      "=====================================\n",
      "Rule: 0.0 -> 78.0\n",
      "Support: 0.005813953488372093\n",
      "Confidence: 0.3076923076923077\n",
      "Lift: 4.320251177394034\n",
      "=====================================\n",
      "Rule: 0.0 -> 5.0\n",
      "Support: 0.010174418604651164\n",
      "Confidence: 0.2916666666666667\n",
      "Lift: 3.786163522012579\n",
      "=====================================\n",
      "Rule: 0.0 -> 66.0\n",
      "Support: 0.007267441860465116\n",
      "Confidence: 0.22727272727272727\n",
      "Lift: 3.3992094861660083\n",
      "=====================================\n",
      "Rule: 23.0 -> 1.0\n",
      "Support: 0.005813953488372093\n",
      "Confidence: 0.5714285714285714\n",
      "Lift: 3.095613048368954\n",
      "=====================================\n",
      "Rule: 64.0 -> 1.0\n",
      "Support: 0.007267441860465116\n",
      "Confidence: 0.5555555555555555\n",
      "Lift: 5.620915032679738\n",
      "=====================================\n",
      "Rule: 22.0 -> 1.0\n",
      "Support: 0.005813953488372093\n",
      "Confidence: 0.3636363636363636\n",
      "Lift: 3.127272727272727\n",
      "=====================================\n",
      "Rule: 64.0 -> 2.0\n",
      "Support: 0.005813953488372093\n",
      "Confidence: 0.2857142857142857\n",
      "Lift: 4.273291925465839\n",
      "=====================================\n",
      "Rule: 22.0 -> 2.0\n",
      "Support: 0.005813953488372093\n",
      "Confidence: 0.8\n",
      "Lift: 6.880000000000001\n",
      "=====================================\n",
      "Rule: 26.0 -> 2.0\n",
      "Support: 0.005813953488372093\n",
      "Confidence: 0.4444444444444444\n",
      "Lift: 6.647342995169082\n",
      "=====================================\n",
      "Rule: 39.0 -> 8.0\n",
      "Support: 0.005813953488372093\n",
      "Confidence: 0.6666666666666666\n",
      "Lift: 13.490196078431373\n",
      "=====================================\n"
     ]
    }
   ],
   "source": [
    "for item in association_results:\n",
    "\n",
    "    # first index of the inner list\n",
    "    # Contains base item and add item\n",
    "    pair = item[0] \n",
    "    items = [x for x in pair]\n",
    "    print(\"Rule: \" + items[0] + \" -> \" + items[1])\n",
    "\n",
    "    #second index of the inner list\n",
    "    print(\"Support: \" + str(item[1]))\n",
    "\n",
    "    #third index of the list located at 0th\n",
    "    #of the third index of the inner list\n",
    "\n",
    "    print(\"Confidence: \" + str(item[2][0][2]))\n",
    "    print(\"Lift: \" + str(item[2][0][3]))\n",
    "    print(\"=====================================\")"
   ]
  },
  {
   "cell_type": "code",
   "execution_count": null,
   "metadata": {},
   "outputs": [],
   "source": []
  }
 ],
 "metadata": {
  "kernelspec": {
   "display_name": "Python 3",
   "language": "python",
   "name": "python3"
  },
  "language_info": {
   "codemirror_mode": {
    "name": "ipython",
    "version": 3
   },
   "file_extension": ".py",
   "mimetype": "text/x-python",
   "name": "python",
   "nbconvert_exporter": "python",
   "pygments_lexer": "ipython3",
   "version": "3.7.6"
  }
 },
 "nbformat": 4,
 "nbformat_minor": 4
}
